{
  "nbformat": 4,
  "nbformat_minor": 0,
  "metadata": {
    "colab": {
      "provenance": [],
      "authorship_tag": "ABX9TyPOuW2BH5HVHpaRLacAaOL5",
      "include_colab_link": true
    },
    "kernelspec": {
      "name": "python3",
      "display_name": "Python 3"
    },
    "language_info": {
      "name": "python"
    }
  },
  "cells": [
    {
      "cell_type": "markdown",
      "metadata": {
        "id": "view-in-github",
        "colab_type": "text"
      },
      "source": [
        "<a href=\"https://colab.research.google.com/github/DianaCorderoF/ML_DCCF/blob/main/Tarea_4_selecci%C3%B3n_de_caracter%C3%ADsticas.ipynb\" target=\"_parent\"><img src=\"https://colab.research.google.com/assets/colab-badge.svg\" alt=\"Open In Colab\"/></a>"
      ]
    },
    {
      "cell_type": "code",
      "execution_count": null,
      "metadata": {
        "colab": {
          "base_uri": "https://localhost:8080/"
        },
        "id": "aRDqsBLXAH_Z",
        "outputId": "1c5065ad-a1f3-49fd-ff7c-80cbc8c7e1dd"
      },
      "outputs": [
        {
          "output_type": "stream",
          "name": "stdout",
          "text": [
            "Drive already mounted at /content/drive; to attempt to forcibly remount, call drive.mount(\"/content/drive\", force_remount=True).\n",
            "Características seleccionadas por Chi-cuadrado: ['Ethnicity' 'StudyTimeWeekly' 'Absences' 'Tutoring' 'ParentalSupport']\n",
            "Características seleccionadas por Mutual Information: ['StudyTimeWeekly' 'Absences' 'Tutoring' 'Sports' 'Volunteering']\n",
            "Características seleccionadas por Lasso: Index(['Gender', 'Ethnicity', 'ParentalEducation', 'StudyTimeWeekly',\n",
            "       'Absences', 'Tutoring', 'ParentalSupport', 'Extracurricular', 'Sports',\n",
            "       'Music', 'Volunteering'],\n",
            "      dtype='object')\n",
            "Características seleccionadas por Random Forest: Index(['Age', 'Ethnicity', 'ParentalEducation', 'StudyTimeWeekly', 'Absences',\n",
            "       'ParentalSupport'],\n",
            "      dtype='object')\n",
            "Conclusiones\n",
            "StudyTimeWeekly y Absences fueron seleccionadas por todos los métodos. Esto sugiere que estas características son consistentemente relevantes para predecir la variable objetivo (GradeClass).\n",
            "ParentalEducation y ParentalSupport también se destacan, lo que indica que el contexto familiar y el apoyo parental son factores importantes.\n"
          ]
        }
      ],
      "source": [
        "import pandas as pd\n",
        "from sklearn.feature_selection import SelectKBest, chi2, mutual_info_classif\n",
        "from sklearn.model_selection import train_test_split\n",
        "from sklearn.linear_model import LassoCV\n",
        "from sklearn.ensemble import RandomForestClassifier\n",
        "\n",
        "\n",
        "from google.colab import drive\n",
        "drive.mount('/content/drive')\n",
        "\n",
        "df = pd.read_csv('/content/drive/MyDrive/AA_DCCF/SPD2.csv')\n",
        "\n",
        "X = df.drop(columns=['StudentID', 'GradeClass'])  # Se elimina 'StudentID' ya que no es relevante\n",
        "y = df['GradeClass']\n",
        "\n",
        "#conjuntos entrenamiento y prueba\n",
        "X_train, X_test, y_train, y_test = train_test_split(X, y, test_size=0.3, random_state=42)\n",
        "\n",
        "# Selección de características con Chi-cuadrado\n",
        "chi2_selector = SelectKBest(chi2, k=5)\n",
        "X_kbest_chi2 = chi2_selector.fit_transform(X_train, y_train)\n",
        "\n",
        "# Selección de características con Mutual Information\n",
        "mutual_info_selector = SelectKBest(mutual_info_classif, k=5)\n",
        "X_kbest_mutual_info = mutual_info_selector.fit_transform(X_train, y_train)\n",
        "\n",
        "# Selección de características con Lasso\n",
        "lasso = LassoCV()\n",
        "lasso.fit(X_train, y_train)\n",
        "importance = lasso.coef_\n",
        "lasso_features = X_train.columns[importance != 0]\n",
        "\n",
        "# Selección de características con Random Forest\n",
        "rf = RandomForestClassifier()\n",
        "rf.fit(X_train, y_train)\n",
        "rf_importances = rf.feature_importances_\n",
        "rf_features = X_train.columns[rf_importances > 0.05]  # Umbral de importancia\n",
        "\n",
        "print(\"Características seleccionadas por Chi-cuadrado:\", chi2_selector.get_feature_names_out())\n",
        "print(\"Características seleccionadas por Mutual Information:\", mutual_info_selector.get_feature_names_out())\n",
        "print(\"Características seleccionadas por Lasso:\", lasso_features)\n",
        "print(\"Características seleccionadas por Random Forest:\", rf_features)\n",
        "\n",
        "print(\"Conclusiones\")\n",
        "print(\"StudyTimeWeekly y Absences fueron seleccionadas por todos los métodos. Esto sugiere que estas características son consistentemente relevantes para predecir la variable objetivo (GradeClass).\")\n",
        "print(\"ParentalEducation y ParentalSupport también se destacan, lo que indica que el contexto familiar y el apoyo parental son factores importantes.\")\n"
      ]
    }
  ]
}